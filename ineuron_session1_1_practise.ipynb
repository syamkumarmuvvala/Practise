{
  "nbformat": 4,
  "nbformat_minor": 0,
  "metadata": {
    "colab": {
      "name": "ineuron_session1.1_practise.ipynb",
      "provenance": [],
      "collapsed_sections": []
    },
    "kernelspec": {
      "name": "python3",
      "display_name": "Python 3"
    }
  },
  "cells": [
    {
      "cell_type": "code",
      "metadata": {
        "id": "1st1R1Xpo5Dk",
        "colab_type": "code",
        "colab": {
          "base_uri": "https://localhost:8080/",
          "height": 34
        },
        "outputId": "17f0e71e-8db0-469b-fe2e-3879e91f02ed"
      },
      "source": [
        "m = list(\"sudh\")\n",
        "m"
      ],
      "execution_count": 1,
      "outputs": [
        {
          "output_type": "execute_result",
          "data": {
            "text/plain": [
              "['s', 'u', 'd', 'h']"
            ]
          },
          "metadata": {
            "tags": []
          },
          "execution_count": 1
        }
      ]
    },
    {
      "cell_type": "code",
      "metadata": {
        "id": "89d_P7i9pPeO",
        "colab_type": "code",
        "colab": {
          "base_uri": "https://localhost:8080/",
          "height": 163
        },
        "outputId": "a5b01db2-e77e-4033-f2c1-f37e8f4d7268"
      },
      "source": [
        "# you should not give like this\n",
        "m=list(\"sudh\",\"asas\")"
      ],
      "execution_count": 4,
      "outputs": [
        {
          "output_type": "error",
          "ename": "TypeError",
          "evalue": "ignored",
          "traceback": [
            "\u001b[0;31m---------------------------------------------------------------------------\u001b[0m",
            "\u001b[0;31mTypeError\u001b[0m                                 Traceback (most recent call last)",
            "\u001b[0;32m<ipython-input-4-7ca296ddc332>\u001b[0m in \u001b[0;36m<module>\u001b[0;34m()\u001b[0m\n\u001b[0;32m----> 1\u001b[0;31m \u001b[0mm\u001b[0m\u001b[0;34m=\u001b[0m\u001b[0mlist\u001b[0m\u001b[0;34m(\u001b[0m\u001b[0;34m\"sudh\"\u001b[0m\u001b[0;34m,\u001b[0m\u001b[0;34m\"asas\"\u001b[0m\u001b[0;34m)\u001b[0m\u001b[0;34m\u001b[0m\u001b[0;34m\u001b[0m\u001b[0m\n\u001b[0m",
            "\u001b[0;31mTypeError\u001b[0m: list() takes at most 1 argument (2 given)"
          ]
        }
      ]
    },
    {
      "cell_type": "code",
      "metadata": {
        "id": "KXpyzeuGpBuJ",
        "colab_type": "code",
        "colab": {
          "base_uri": "https://localhost:8080/",
          "height": 34
        },
        "outputId": "afd0ccf4-156c-47ca-ce15-fb3959ec92cd"
      },
      "source": [
        "m=list([\"sudh\",\"kumar\"])\n",
        "m"
      ],
      "execution_count": 3,
      "outputs": [
        {
          "output_type": "execute_result",
          "data": {
            "text/plain": [
              "['sudh', 'kumar']"
            ]
          },
          "metadata": {
            "tags": []
          },
          "execution_count": 3
        }
      ]
    },
    {
      "cell_type": "code",
      "metadata": {
        "id": "2OrdjKsHv0R8",
        "colab_type": "code",
        "colab": {
          "base_uri": "https://localhost:8080/",
          "height": 163
        },
        "outputId": "bf45c553-4452-437b-cfc2-46b924d0d790"
      },
      "source": [
        "m=list(12)\n",
        "# int object is not iterable, so we have an error"
      ],
      "execution_count": 44,
      "outputs": [
        {
          "output_type": "error",
          "ename": "TypeError",
          "evalue": "ignored",
          "traceback": [
            "\u001b[0;31m---------------------------------------------------------------------------\u001b[0m",
            "\u001b[0;31mTypeError\u001b[0m                                 Traceback (most recent call last)",
            "\u001b[0;32m<ipython-input-44-f4bc0216598f>\u001b[0m in \u001b[0;36m<module>\u001b[0;34m()\u001b[0m\n\u001b[0;32m----> 1\u001b[0;31m \u001b[0mm\u001b[0m\u001b[0;34m=\u001b[0m\u001b[0mlist\u001b[0m\u001b[0;34m(\u001b[0m\u001b[0;36m12\u001b[0m\u001b[0;34m)\u001b[0m\u001b[0;34m\u001b[0m\u001b[0;34m\u001b[0m\u001b[0m\n\u001b[0m",
            "\u001b[0;31mTypeError\u001b[0m: 'int' object is not iterable"
          ]
        }
      ]
    },
    {
      "cell_type": "code",
      "metadata": {
        "id": "AnxucnpMpKKO",
        "colab_type": "code",
        "colab": {
          "base_uri": "https://localhost:8080/",
          "height": 34
        },
        "outputId": "f67b2bd4-3f0d-45b7-87ba-a12b68a5a46d"
      },
      "source": [
        "l=[1,2,3,4,5]\n",
        "l[::-1]\n",
        "l[0:10]"
      ],
      "execution_count": 10,
      "outputs": [
        {
          "output_type": "execute_result",
          "data": {
            "text/plain": [
              "[1, 2, 3, 4, 5]"
            ]
          },
          "metadata": {
            "tags": []
          },
          "execution_count": 10
        }
      ]
    },
    {
      "cell_type": "code",
      "metadata": {
        "id": "_fsAI1BYptI6",
        "colab_type": "code",
        "colab": {
          "base_uri": "https://localhost:8080/",
          "height": 51
        },
        "outputId": "e298bb17-e57f-4eaf-fb71-2df8e252628e"
      },
      "source": [
        "s=\"sudh\"\n",
        "print(s[0]) #access the character\n",
        "print(s[-1])"
      ],
      "execution_count": 7,
      "outputs": [
        {
          "output_type": "stream",
          "text": [
            "s\n",
            "h\n"
          ],
          "name": "stdout"
        }
      ]
    },
    {
      "cell_type": "code",
      "metadata": {
        "id": "XrZxiHSEpzop",
        "colab_type": "code",
        "colab": {
          "base_uri": "https://localhost:8080/",
          "height": 34
        },
        "outputId": "e6c9e992-991b-48bb-941d-1bb3e5ce56e4"
      },
      "source": [
        "s[0:10]"
      ],
      "execution_count": 8,
      "outputs": [
        {
          "output_type": "execute_result",
          "data": {
            "text/plain": [
              "'sudh'"
            ]
          },
          "metadata": {
            "tags": []
          },
          "execution_count": 8
        }
      ]
    },
    {
      "cell_type": "code",
      "metadata": {
        "id": "99wpNsS-qH3H",
        "colab_type": "code",
        "colab": {
          "base_uri": "https://localhost:8080/",
          "height": 34
        },
        "outputId": "19bd3e1d-00df-4e61-b187-60cc07e85932"
      },
      "source": [
        "s[3:0] # forward step size will be taken by default\n",
        "# you will get a blank string"
      ],
      "execution_count": 11,
      "outputs": [
        {
          "output_type": "execute_result",
          "data": {
            "text/plain": [
              "''"
            ]
          },
          "metadata": {
            "tags": []
          },
          "execution_count": 11
        }
      ]
    },
    {
      "cell_type": "code",
      "metadata": {
        "id": "yCvtiqlXqly1",
        "colab_type": "code",
        "colab": {
          "base_uri": "https://localhost:8080/",
          "height": 34
        },
        "outputId": "7ee82983-1781-4059-b9d3-e908f3d8b250"
      },
      "source": [
        "s[3:0:-1]"
      ],
      "execution_count": 12,
      "outputs": [
        {
          "output_type": "execute_result",
          "data": {
            "text/plain": [
              "'hdu'"
            ]
          },
          "metadata": {
            "tags": []
          },
          "execution_count": 12
        }
      ]
    },
    {
      "cell_type": "code",
      "metadata": {
        "id": "aFYcWkzNqSXp",
        "colab_type": "code",
        "colab": {}
      },
      "source": [
        "l=[]\n",
        "l.append('sudh') # append the data in tail part\n",
        "l.append('vamsi')\n",
        "l.append([\"syam\",123])"
      ],
      "execution_count": 0,
      "outputs": []
    },
    {
      "cell_type": "code",
      "metadata": {
        "id": "g4oFP-ZArOL0",
        "colab_type": "code",
        "colab": {
          "base_uri": "https://localhost:8080/",
          "height": 34
        },
        "outputId": "ec49860c-2e54-47bc-d8fc-b78cf5ecd663"
      },
      "source": [
        "l"
      ],
      "execution_count": 18,
      "outputs": [
        {
          "output_type": "execute_result",
          "data": {
            "text/plain": [
              "['sudh', ['syam', 123]]"
            ]
          },
          "metadata": {
            "tags": []
          },
          "execution_count": 18
        }
      ]
    },
    {
      "cell_type": "code",
      "metadata": {
        "id": "db6FeravrXBM",
        "colab_type": "code",
        "colab": {
          "base_uri": "https://localhost:8080/",
          "height": 153
        },
        "outputId": "663b3f20-6505-4676-ef57-3437fff4b602"
      },
      "source": [
        "#l.insert(location,object)\n",
        "# we can insert the data in any location\n",
        "l.insert(0,[\"Kumar\",\"mays\"])\n",
        "l.insert(10,23) # \n",
        "l"
      ],
      "execution_count": 22,
      "outputs": [
        {
          "output_type": "execute_result",
          "data": {
            "text/plain": [
              "[['Kumar', 'mays'],\n",
              " ['Kumar', 'mays'],\n",
              " ['Kumar', 'mays'],\n",
              " 'sudh',\n",
              " ['Kumar', 'mays'],\n",
              " ['syam', 123],\n",
              " 22,\n",
              " 23]"
            ]
          },
          "metadata": {
            "tags": []
          },
          "execution_count": 22
        }
      ]
    },
    {
      "cell_type": "code",
      "metadata": {
        "id": "5OejlPvqsKIc",
        "colab_type": "code",
        "colab": {
          "base_uri": "https://localhost:8080/",
          "height": 34
        },
        "outputId": "6686a54b-3a3a-4561-8af4-bebcce150bd6"
      },
      "source": [
        "type(l[0])"
      ],
      "execution_count": 23,
      "outputs": [
        {
          "output_type": "execute_result",
          "data": {
            "text/plain": [
              "list"
            ]
          },
          "metadata": {
            "tags": []
          },
          "execution_count": 23
        }
      ]
    },
    {
      "cell_type": "code",
      "metadata": {
        "id": "1iTqraxOrvYv",
        "colab_type": "code",
        "colab": {
          "base_uri": "https://localhost:8080/",
          "height": 34
        },
        "outputId": "81ad543a-b21f-44de-abf0-dde9b6e7fd02"
      },
      "source": [
        "l[0][0]"
      ],
      "execution_count": 24,
      "outputs": [
        {
          "output_type": "execute_result",
          "data": {
            "text/plain": [
              "'Kumar'"
            ]
          },
          "metadata": {
            "tags": []
          },
          "execution_count": 24
        }
      ]
    },
    {
      "cell_type": "code",
      "metadata": {
        "id": "8-A7zbnisTpo",
        "colab_type": "code",
        "colab": {
          "base_uri": "https://localhost:8080/",
          "height": 34
        },
        "outputId": "452e20bf-d4e9-45ed-bae3-aa568336439f"
      },
      "source": [
        "list(l[0][0]) # split the strng data into list of characters"
      ],
      "execution_count": 25,
      "outputs": [
        {
          "output_type": "execute_result",
          "data": {
            "text/plain": [
              "['K', 'u', 'm', 'a', 'r']"
            ]
          },
          "metadata": {
            "tags": []
          },
          "execution_count": 25
        }
      ]
    },
    {
      "cell_type": "code",
      "metadata": {
        "id": "LIQUsJ6Kstzd",
        "colab_type": "code",
        "colab": {
          "base_uri": "https://localhost:8080/",
          "height": 34
        },
        "outputId": "e128c722-27db-4b0b-82a2-b2e826f3fcf8"
      },
      "source": [
        "\"syam\" + \"kumar\""
      ],
      "execution_count": 26,
      "outputs": [
        {
          "output_type": "execute_result",
          "data": {
            "text/plain": [
              "'syamkumar'"
            ]
          },
          "metadata": {
            "tags": []
          },
          "execution_count": 26
        }
      ]
    },
    {
      "cell_type": "code",
      "metadata": {
        "id": "SQ3rUNAatN11",
        "colab_type": "code",
        "colab": {
          "base_uri": "https://localhost:8080/",
          "height": 163
        },
        "outputId": "7f236848-d1e7-44d8-9bb4-941dd9f3115b"
      },
      "source": [
        "\"sudh\" + 1\n",
        "# for the concatenation operation, both the data types should be same"
      ],
      "execution_count": 33,
      "outputs": [
        {
          "output_type": "error",
          "ename": "TypeError",
          "evalue": "ignored",
          "traceback": [
            "\u001b[0;31m---------------------------------------------------------------------------\u001b[0m",
            "\u001b[0;31mTypeError\u001b[0m                                 Traceback (most recent call last)",
            "\u001b[0;32m<ipython-input-33-996e8621eee1>\u001b[0m in \u001b[0;36m<module>\u001b[0;34m()\u001b[0m\n\u001b[0;32m----> 1\u001b[0;31m \u001b[0;34m\"sudh\"\u001b[0m \u001b[0;34m+\u001b[0m \u001b[0;36m1\u001b[0m\u001b[0;34m\u001b[0m\u001b[0;34m\u001b[0m\u001b[0m\n\u001b[0m",
            "\u001b[0;31mTypeError\u001b[0m: must be str, not int"
          ]
        }
      ]
    },
    {
      "cell_type": "code",
      "metadata": {
        "id": "NcTMO7tMsZNK",
        "colab_type": "code",
        "colab": {}
      },
      "source": [
        "l1 = [2,5,6,7]\n",
        "l2 = [\"sudh\",5,7,8,[1,2,3]]"
      ],
      "execution_count": 0,
      "outputs": []
    },
    {
      "cell_type": "code",
      "metadata": {
        "id": "Jpl_iL00sxY8",
        "colab_type": "code",
        "colab": {
          "base_uri": "https://localhost:8080/",
          "height": 34
        },
        "outputId": "c53e0d95-2db2-4dc2-8c57-3d1640771504"
      },
      "source": [
        "l1+l2\n",
        "# it will do first level of unwrapping and combine in a list"
      ],
      "execution_count": 31,
      "outputs": [
        {
          "output_type": "execute_result",
          "data": {
            "text/plain": [
              "[2, 5, 6, 7, 'sudh', 5, 7, 8, [1, 2, 3]]"
            ]
          },
          "metadata": {
            "tags": []
          },
          "execution_count": 31
        }
      ]
    },
    {
      "cell_type": "code",
      "metadata": {
        "id": "G3JeQzDvsySk",
        "colab_type": "code",
        "colab": {
          "base_uri": "https://localhost:8080/",
          "height": 163
        },
        "outputId": "2793352a-647d-4ea1-a052-79b638ad4d50"
      },
      "source": [
        "l1 + \"sudh\"\n",
        "# for the concatenation operation, both the data types should be same"
      ],
      "execution_count": 32,
      "outputs": [
        {
          "output_type": "error",
          "ename": "TypeError",
          "evalue": "ignored",
          "traceback": [
            "\u001b[0;31m---------------------------------------------------------------------------\u001b[0m",
            "\u001b[0;31mTypeError\u001b[0m                                 Traceback (most recent call last)",
            "\u001b[0;32m<ipython-input-32-abb0bd20c143>\u001b[0m in \u001b[0;36m<module>\u001b[0;34m()\u001b[0m\n\u001b[0;32m----> 1\u001b[0;31m \u001b[0ml1\u001b[0m \u001b[0;34m+\u001b[0m \u001b[0;34m\"sudh\"\u001b[0m\u001b[0;34m\u001b[0m\u001b[0;34m\u001b[0m\u001b[0m\n\u001b[0m",
            "\u001b[0;31mTypeError\u001b[0m: can only concatenate list (not \"str\") to list"
          ]
        }
      ]
    },
    {
      "cell_type": "code",
      "metadata": {
        "id": "F22QUZw5tLRU",
        "colab_type": "code",
        "colab": {
          "base_uri": "https://localhost:8080/",
          "height": 34
        },
        "outputId": "fe09df2c-2559-42d8-984e-17000b2725f9"
      },
      "source": [
        "l1 + [\"sudh\"]"
      ],
      "execution_count": 34,
      "outputs": [
        {
          "output_type": "execute_result",
          "data": {
            "text/plain": [
              "[2, 5, 6, 7, 'sudh']"
            ]
          },
          "metadata": {
            "tags": []
          },
          "execution_count": 34
        }
      ]
    },
    {
      "cell_type": "code",
      "metadata": {
        "id": "GBRZa6J9tdk-",
        "colab_type": "code",
        "colab": {
          "base_uri": "https://localhost:8080/",
          "height": 34
        },
        "outputId": "f800161f-ed61-4ad9-f98f-1510889af08d"
      },
      "source": [
        "l1.insert(-1,[\"syam\",\"kumar\"])\n",
        "l1\n",
        "# insert function will insert the object before the given index\n",
        "# so for positive indexes, the object will be inserted at exact index\n",
        "# but for the negative location, it will be inserted before the given negative index"
      ],
      "execution_count": 41,
      "outputs": [
        {
          "output_type": "execute_result",
          "data": {
            "text/plain": [
              "[2, 5, 6, 7, 1, 2, 3, 1, 2, [1, 2, 3], [1, 2, 3], ['syam', 'kumar'], 3]"
            ]
          },
          "metadata": {
            "tags": []
          },
          "execution_count": 41
        }
      ]
    },
    {
      "cell_type": "code",
      "metadata": {
        "id": "EXQZuwtgtwyc",
        "colab_type": "code",
        "colab": {
          "base_uri": "https://localhost:8080/",
          "height": 102
        },
        "outputId": "c56c235b-c2c7-4244-d739-50ddc1b1108e"
      },
      "source": [
        "help(list.insert)"
      ],
      "execution_count": 43,
      "outputs": [
        {
          "output_type": "stream",
          "text": [
            "Help on method_descriptor:\n",
            "\n",
            "insert(...)\n",
            "    L.insert(index, object) -- insert object before index\n",
            "\n"
          ],
          "name": "stdout"
        }
      ]
    },
    {
      "cell_type": "code",
      "metadata": {
        "id": "Vvh4HrRtu6Q2",
        "colab_type": "code",
        "colab": {}
      },
      "source": [
        "# reverse of the every element in the list\n",
        "l=[1,2,\"syam\",[4,5,6]]\n",
        "m=[]\n",
        "for i in l:\n",
        "  if type(i)==int:\n",
        "    m.append(i)\n",
        "  else:\n",
        "    m.append(i[::-1])"
      ],
      "execution_count": 0,
      "outputs": []
    },
    {
      "cell_type": "code",
      "metadata": {
        "id": "Hhiaud4xxoNI",
        "colab_type": "code",
        "colab": {
          "base_uri": "https://localhost:8080/",
          "height": 34
        },
        "outputId": "86c44376-1615-4094-fd24-911345deecf2"
      },
      "source": [
        "m"
      ],
      "execution_count": 47,
      "outputs": [
        {
          "output_type": "execute_result",
          "data": {
            "text/plain": [
              "[1, 2, 'mays', [6, 5, 4]]"
            ]
          },
          "metadata": {
            "tags": []
          },
          "execution_count": 47
        }
      ]
    },
    {
      "cell_type": "code",
      "metadata": {
        "id": "GuEmK15_ytww",
        "colab_type": "code",
        "colab": {
          "base_uri": "https://localhost:8080/",
          "height": 214
        },
        "outputId": "66e906c1-d572-412f-8908-8a4e819b7091"
      },
      "source": [
        "s=\"syam\"\n",
        "print(s[0:10]) # no error\n",
        "print(s[10]) # error\n"
      ],
      "execution_count": 50,
      "outputs": [
        {
          "output_type": "stream",
          "text": [
            "syam\n"
          ],
          "name": "stdout"
        },
        {
          "output_type": "error",
          "ename": "IndexError",
          "evalue": "ignored",
          "traceback": [
            "\u001b[0;31m---------------------------------------------------------------------------\u001b[0m",
            "\u001b[0;31mIndexError\u001b[0m                                Traceback (most recent call last)",
            "\u001b[0;32m<ipython-input-50-f564ac63d1f5>\u001b[0m in \u001b[0;36m<module>\u001b[0;34m()\u001b[0m\n\u001b[1;32m      1\u001b[0m \u001b[0ms\u001b[0m\u001b[0;34m=\u001b[0m\u001b[0;34m\"syam\"\u001b[0m\u001b[0;34m\u001b[0m\u001b[0;34m\u001b[0m\u001b[0m\n\u001b[1;32m      2\u001b[0m \u001b[0mprint\u001b[0m\u001b[0;34m(\u001b[0m\u001b[0ms\u001b[0m\u001b[0;34m[\u001b[0m\u001b[0;36m0\u001b[0m\u001b[0;34m:\u001b[0m\u001b[0;36m10\u001b[0m\u001b[0;34m]\u001b[0m\u001b[0;34m)\u001b[0m \u001b[0;31m# no error\u001b[0m\u001b[0;34m\u001b[0m\u001b[0;34m\u001b[0m\u001b[0m\n\u001b[0;32m----> 3\u001b[0;31m \u001b[0mprint\u001b[0m\u001b[0;34m(\u001b[0m\u001b[0ms\u001b[0m\u001b[0;34m[\u001b[0m\u001b[0;36m10\u001b[0m\u001b[0;34m]\u001b[0m\u001b[0;34m)\u001b[0m \u001b[0;31m# error\u001b[0m\u001b[0;34m\u001b[0m\u001b[0;34m\u001b[0m\u001b[0m\n\u001b[0m",
            "\u001b[0;31mIndexError\u001b[0m: string index out of range"
          ]
        }
      ]
    },
    {
      "cell_type": "markdown",
      "metadata": {
        "id": "WKd6OWYdyUeM",
        "colab_type": "text"
      },
      "source": [
        "For Loop"
      ]
    },
    {
      "cell_type": "code",
      "metadata": {
        "id": "Bg_cQlU-yWAU",
        "colab_type": "code",
        "colab": {
          "base_uri": "https://localhost:8080/",
          "height": 85
        },
        "outputId": "947ce3f1-a351-44e8-f5b1-f53204d3d42e"
      },
      "source": [
        "s = \"sudh\"\n",
        "for i in s:\n",
        "  print(i)"
      ],
      "execution_count": 48,
      "outputs": [
        {
          "output_type": "stream",
          "text": [
            "s\n",
            "u\n",
            "d\n",
            "h\n"
          ],
          "name": "stdout"
        }
      ]
    },
    {
      "cell_type": "code",
      "metadata": {
        "id": "yHPhaopkyiHn",
        "colab_type": "code",
        "colab": {
          "base_uri": "https://localhost:8080/",
          "height": 180
        },
        "outputId": "02e24e0f-d3f0-4890-9f35-ef4d4535ea19"
      },
      "source": [
        "for i in 100:\n",
        "  print(i)"
      ],
      "execution_count": 51,
      "outputs": [
        {
          "output_type": "error",
          "ename": "TypeError",
          "evalue": "ignored",
          "traceback": [
            "\u001b[0;31m---------------------------------------------------------------------------\u001b[0m",
            "\u001b[0;31mTypeError\u001b[0m                                 Traceback (most recent call last)",
            "\u001b[0;32m<ipython-input-51-5c96fc949ac4>\u001b[0m in \u001b[0;36m<module>\u001b[0;34m()\u001b[0m\n\u001b[0;32m----> 1\u001b[0;31m \u001b[0;32mfor\u001b[0m \u001b[0mi\u001b[0m \u001b[0;32min\u001b[0m \u001b[0;36m100\u001b[0m\u001b[0;34m:\u001b[0m\u001b[0;34m\u001b[0m\u001b[0;34m\u001b[0m\u001b[0m\n\u001b[0m\u001b[1;32m      2\u001b[0m   \u001b[0mprint\u001b[0m\u001b[0;34m(\u001b[0m\u001b[0mi\u001b[0m\u001b[0;34m)\u001b[0m\u001b[0;34m\u001b[0m\u001b[0;34m\u001b[0m\u001b[0m\n",
            "\u001b[0;31mTypeError\u001b[0m: 'int' object is not iterable"
          ]
        }
      ]
    },
    {
      "cell_type": "code",
      "metadata": {
        "id": "mzjbCYJozOHy",
        "colab_type": "code",
        "colab": {
          "base_uri": "https://localhost:8080/",
          "height": 85
        },
        "outputId": "78d8739f-3a8b-4540-eefe-be80b76a3571"
      },
      "source": [
        "for i in [1,2,3,4]:\n",
        "  print(i,end=\" \")\n",
        "  print(type(i))"
      ],
      "execution_count": 54,
      "outputs": [
        {
          "output_type": "stream",
          "text": [
            "1 <class 'int'>\n",
            "2 <class 'int'>\n",
            "3 <class 'int'>\n",
            "4 <class 'int'>\n"
          ],
          "name": "stdout"
        }
      ]
    },
    {
      "cell_type": "code",
      "metadata": {
        "id": "EjZdnOJCzSMQ",
        "colab_type": "code",
        "colab": {
          "base_uri": "https://localhost:8080/",
          "height": 34
        },
        "outputId": "0ab2ecc7-0197-4343-ccbb-87edbc77bf4a"
      },
      "source": [
        "for i in [1,2,\"syam\"]:\n",
        "  if type(i) == str:\n",
        "    print(i)"
      ],
      "execution_count": 55,
      "outputs": [
        {
          "output_type": "stream",
          "text": [
            "syam\n"
          ],
          "name": "stdout"
        }
      ]
    },
    {
      "cell_type": "code",
      "metadata": {
        "colab_type": "code",
        "outputId": "9c4cfe97-3a5a-4b18-bae3-202d458f1536",
        "id": "HpkdfQxx0Hjc",
        "colab": {
          "base_uri": "https://localhost:8080/",
          "height": 34
        }
      },
      "source": [
        "for i in [1,2,\"syam\"]:\n",
        "  if type(i) == str:\n",
        "    print(i[::-1])"
      ],
      "execution_count": 56,
      "outputs": [
        {
          "output_type": "stream",
          "text": [
            "mays\n"
          ],
          "name": "stdout"
        }
      ]
    },
    {
      "cell_type": "code",
      "metadata": {
        "id": "Zq7q3XNS0KSh",
        "colab_type": "code",
        "colab": {}
      },
      "source": [
        "x = []\n",
        "for i in [1,2,\"syam\",[1,2,3,4,\"mays\"]]:\n",
        "    if type(i) == list:\n",
        "      for j in i[::-1]:\n",
        "        if type(j) == int:\n",
        "          x.append(j)\n",
        "        else:\n",
        "          x.append(j[::-1])"
      ],
      "execution_count": 0,
      "outputs": []
    },
    {
      "cell_type": "code",
      "metadata": {
        "id": "KiEpTC5q0cAE",
        "colab_type": "code",
        "colab": {
          "base_uri": "https://localhost:8080/",
          "height": 34
        },
        "outputId": "af8d1c43-640c-4514-94ef-8f00d73438bc"
      },
      "source": [
        "x"
      ],
      "execution_count": 65,
      "outputs": [
        {
          "output_type": "execute_result",
          "data": {
            "text/plain": [
              "['syam', 4, 3, 2, 1]"
            ]
          },
          "metadata": {
            "tags": []
          },
          "execution_count": 65
        }
      ]
    },
    {
      "cell_type": "code",
      "metadata": {
        "id": "SYA0kPiM1XbI",
        "colab_type": "code",
        "colab": {}
      },
      "source": [
        "x[0] = 'vamsi' # replacing the data\n"
      ],
      "execution_count": 0,
      "outputs": []
    },
    {
      "cell_type": "code",
      "metadata": {
        "id": "qV_AtTji4PTG",
        "colab_type": "code",
        "colab": {
          "base_uri": "https://localhost:8080/",
          "height": 34
        },
        "outputId": "f4101992-6e79-4c29-fa04-ab98acbab5dc"
      },
      "source": [
        "numbers = [1,2,3,4,5,6,7,8]\n",
        "sum = 0\n",
        "for i in numbers:\n",
        "  sum = sum + i\n",
        "print(\"The sum is\",sum,sep=\": \")"
      ],
      "execution_count": 74,
      "outputs": [
        {
          "output_type": "stream",
          "text": [
            "The sum is: 36\n"
          ],
          "name": "stdout"
        }
      ]
    },
    {
      "cell_type": "code",
      "metadata": {
        "id": "bEYnK1l05O_3",
        "colab_type": "code",
        "colab": {
          "base_uri": "https://localhost:8080/",
          "height": 85
        },
        "outputId": "14683f7e-749d-4bd5-84e0-f55e39ad3177"
      },
      "source": [
        "# For Else Combination\n",
        "digits = [0,1,5]\n",
        "for i in digits:\n",
        "  print(i)\n",
        "else:\n",
        "  print(\"No items left.\")"
      ],
      "execution_count": 76,
      "outputs": [
        {
          "output_type": "stream",
          "text": [
            "0\n",
            "1\n",
            "5\n",
            "No items left.\n"
          ],
          "name": "stdout"
        }
      ]
    },
    {
      "cell_type": "code",
      "metadata": {
        "id": "2A2P9FYV5nz2",
        "colab_type": "code",
        "colab": {
          "base_uri": "https://localhost:8080/",
          "height": 34
        },
        "outputId": "82d3964e-8d19-46d4-993e-7f157f256b73"
      },
      "source": [
        "# For Else Combination\n",
        "digits = [0,1,5]\n",
        "for i in digits:\n",
        "  print(i)\n",
        "  break\n",
        "else:\n",
        "  print(\"No items left.\")\n",
        "\n",
        "# if we use the break statement, else block will not got executed."
      ],
      "execution_count": 82,
      "outputs": [
        {
          "output_type": "stream",
          "text": [
            "0\n"
          ],
          "name": "stdout"
        }
      ]
    },
    {
      "cell_type": "code",
      "metadata": {
        "id": "DfrrH7YQ6EyO",
        "colab_type": "code",
        "colab": {
          "base_uri": "https://localhost:8080/",
          "height": 34
        },
        "outputId": "ca5b89b9-d493-4cc0-c221-5db188ff0b0c"
      },
      "source": [
        "# For Else Combination\n",
        "digits = [0,1,5]\n",
        "for i in digits:\n",
        "  continue\n",
        "  print(i)\n",
        "else:\n",
        "  print(\"No items left.\")"
      ],
      "execution_count": 83,
      "outputs": [
        {
          "output_type": "stream",
          "text": [
            "No items left.\n"
          ],
          "name": "stdout"
        }
      ]
    },
    {
      "cell_type": "markdown",
      "metadata": {
        "id": "WIGXenfh6LhX",
        "colab_type": "text"
      },
      "source": [
        "While Loop"
      ]
    },
    {
      "cell_type": "code",
      "metadata": {
        "id": "tlVgaaeO6NHz",
        "colab_type": "code",
        "colab": {
          "base_uri": "https://localhost:8080/",
          "height": 34
        },
        "outputId": "e2a5172d-24e0-4a90-b956-5fe81f900b06"
      },
      "source": [
        "n = 10\n",
        "sum = 0\n",
        "i = 1\n",
        "\n",
        "while i<=n:\n",
        "  sum = sum + i\n",
        "  i = i + 1\n",
        "print(\"The sum is\",sum,sep=\": \")"
      ],
      "execution_count": 84,
      "outputs": [
        {
          "output_type": "stream",
          "text": [
            "The sum is: 55\n"
          ],
          "name": "stdout"
        }
      ]
    },
    {
      "cell_type": "code",
      "metadata": {
        "id": "cYTfwmpV6ZKD",
        "colab_type": "code",
        "colab": {
          "base_uri": "https://localhost:8080/",
          "height": 51
        },
        "outputId": "e3bdb3ec-9d54-4436-bfd2-fc73cf5c6a0e"
      },
      "source": [
        "n = int(input(\"enter any integer\"))\n",
        "print(n*(n+1)/2)"
      ],
      "execution_count": 86,
      "outputs": [
        {
          "output_type": "stream",
          "text": [
            "enter any integer10\n",
            "55.0\n"
          ],
          "name": "stdout"
        }
      ]
    },
    {
      "cell_type": "code",
      "metadata": {
        "id": "oE9w3PW77UYz",
        "colab_type": "code",
        "colab": {}
      },
      "source": [
        ""
      ],
      "execution_count": 0,
      "outputs": []
    },
    {
      "cell_type": "markdown",
      "metadata": {
        "id": "F1JH13c37cRh",
        "colab_type": "text"
      },
      "source": [
        "Range\\n\n",
        "range is an generator function"
      ]
    },
    {
      "cell_type": "code",
      "metadata": {
        "id": "SFWUvq-o7dwj",
        "colab_type": "code",
        "colab": {
          "base_uri": "https://localhost:8080/",
          "height": 34
        },
        "outputId": "cf708bc5-deb2-46cd-f09c-ed3d050e0e4f"
      },
      "source": [
        "range(10)"
      ],
      "execution_count": 87,
      "outputs": [
        {
          "output_type": "execute_result",
          "data": {
            "text/plain": [
              "range(0, 10)"
            ]
          },
          "metadata": {
            "tags": []
          },
          "execution_count": 87
        }
      ]
    },
    {
      "cell_type": "code",
      "metadata": {
        "id": "YRnsAZMl7fEJ",
        "colab_type": "code",
        "colab": {
          "base_uri": "https://localhost:8080/",
          "height": 34
        },
        "outputId": "8ec19fe0-5687-4b93-bee4-aafdbfb95cc4"
      },
      "source": [
        "list(range(10))\n",
        "# it excludes the upper bound\n",
        "# we have given the range function to iterator"
      ],
      "execution_count": 89,
      "outputs": [
        {
          "output_type": "execute_result",
          "data": {
            "text/plain": [
              "[0, 1, 2, 3, 4, 5, 6, 7, 8, 9]"
            ]
          },
          "metadata": {
            "tags": []
          },
          "execution_count": 89
        }
      ]
    },
    {
      "cell_type": "code",
      "metadata": {
        "id": "vOmSu_ZU7t6a",
        "colab_type": "code",
        "colab": {
          "base_uri": "https://localhost:8080/",
          "height": 34
        },
        "outputId": "7d57c092-0ab2-406d-dd18-732520f0a944"
      },
      "source": [
        "list(range(0,10))"
      ],
      "execution_count": 90,
      "outputs": [
        {
          "output_type": "execute_result",
          "data": {
            "text/plain": [
              "[0, 1, 2, 3, 4, 5, 6, 7, 8, 9]"
            ]
          },
          "metadata": {
            "tags": []
          },
          "execution_count": 90
        }
      ]
    },
    {
      "cell_type": "code",
      "metadata": {
        "id": "vDz7nuRl771v",
        "colab_type": "code",
        "colab": {
          "base_uri": "https://localhost:8080/",
          "height": 34
        },
        "outputId": "c6eb1c92-e545-4249-90e4-010c6f1611a7"
      },
      "source": [
        "list(range(10,0))"
      ],
      "execution_count": 93,
      "outputs": [
        {
          "output_type": "execute_result",
          "data": {
            "text/plain": [
              "[]"
            ]
          },
          "metadata": {
            "tags": []
          },
          "execution_count": 93
        }
      ]
    },
    {
      "cell_type": "code",
      "metadata": {
        "id": "BT3m7vDT8CBn",
        "colab_type": "code",
        "colab": {
          "base_uri": "https://localhost:8080/",
          "height": 34
        },
        "outputId": "859f7b2a-ce4f-4cee-dd36-6a2bd2c3f61d"
      },
      "source": [
        "list(range(10,0,-1))"
      ],
      "execution_count": 94,
      "outputs": [
        {
          "output_type": "execute_result",
          "data": {
            "text/plain": [
              "[10, 9, 8, 7, 6, 5, 4, 3, 2, 1]"
            ]
          },
          "metadata": {
            "tags": []
          },
          "execution_count": 94
        }
      ]
    },
    {
      "cell_type": "code",
      "metadata": {
        "id": "LTkcvQEo8M6V",
        "colab_type": "code",
        "colab": {
          "base_uri": "https://localhost:8080/",
          "height": 34
        },
        "outputId": "4db2eea8-646f-4e19-ebc4-8457a8d6ac94"
      },
      "source": [
        "list(range(0,10,2))"
      ],
      "execution_count": 95,
      "outputs": [
        {
          "output_type": "execute_result",
          "data": {
            "text/plain": [
              "[0, 2, 4, 6, 8]"
            ]
          },
          "metadata": {
            "tags": []
          },
          "execution_count": 95
        }
      ]
    },
    {
      "cell_type": "code",
      "metadata": {
        "id": "tBCF92EF8lXT",
        "colab_type": "code",
        "colab": {
          "base_uri": "https://localhost:8080/",
          "height": 34
        },
        "outputId": "d8daa398-bc0d-40f6-cd90-a50b230e0d88"
      },
      "source": [
        "list(range(8,2,-2))"
      ],
      "execution_count": 96,
      "outputs": [
        {
          "output_type": "execute_result",
          "data": {
            "text/plain": [
              "[8, 6, 4]"
            ]
          },
          "metadata": {
            "tags": []
          },
          "execution_count": 96
        }
      ]
    },
    {
      "cell_type": "code",
      "metadata": {
        "id": "Z9qfzTbe83O1",
        "colab_type": "code",
        "colab": {
          "base_uri": "https://localhost:8080/",
          "height": 34
        },
        "outputId": "b7ed79ce-516d-4217-dd29-d900ec3ed1bc"
      },
      "source": [
        "list(range(len(\"genre\")))"
      ],
      "execution_count": 98,
      "outputs": [
        {
          "output_type": "execute_result",
          "data": {
            "text/plain": [
              "[0, 1, 2, 3, 4]"
            ]
          },
          "metadata": {
            "tags": []
          },
          "execution_count": 98
        }
      ]
    },
    {
      "cell_type": "code",
      "metadata": {
        "id": "pHA89OT688HN",
        "colab_type": "code",
        "colab": {
          "base_uri": "https://localhost:8080/",
          "height": 85
        },
        "outputId": "e74dc111-fd45-4695-c38b-3d3124db5c67"
      },
      "source": [
        "ll = [\"syam\",\"kumar\",1,2,3,4,5]\n",
        "for i in range(0,len(ll),2):\n",
        "  print(ll[i])"
      ],
      "execution_count": 101,
      "outputs": [
        {
          "output_type": "stream",
          "text": [
            "syam\n",
            "1\n",
            "3\n",
            "5\n"
          ],
          "name": "stdout"
        }
      ]
    },
    {
      "cell_type": "code",
      "metadata": {
        "id": "TiTgdkYl9yXo",
        "colab_type": "code",
        "colab": {}
      },
      "source": [
        "# range function will generate only integers"
      ],
      "execution_count": 0,
      "outputs": []
    },
    {
      "cell_type": "code",
      "metadata": {
        "id": "DueFQ1JL-WqB",
        "colab_type": "code",
        "colab": {
          "base_uri": "https://localhost:8080/",
          "height": 34
        },
        "outputId": "91a93e1f-d992-45f3-cb76-bf6d6d251a9f"
      },
      "source": [
        "mylist = [1,2,3,4,5]\n",
        "a=[]\n",
        "for i in range(len(mylist)-1,-1,-1):\n",
        "  a.append(mylist[i])\n",
        "a"
      ],
      "execution_count": 104,
      "outputs": [
        {
          "output_type": "execute_result",
          "data": {
            "text/plain": [
              "[5, 4, 3, 2, 1]"
            ]
          },
          "metadata": {
            "tags": []
          },
          "execution_count": 104
        }
      ]
    },
    {
      "cell_type": "code",
      "metadata": {
        "id": "V47cuTb7-ub6",
        "colab_type": "code",
        "colab": {
          "base_uri": "https://localhost:8080/",
          "height": 85
        },
        "outputId": "f5817728-f2a9-4fa6-9e8d-744778f6cc0f"
      },
      "source": [
        "for val in \"sudhanshu\":\n",
        "  if val == \"h\":\n",
        "    break\n",
        "  print(val)\n",
        "else:\n",
        "  print(\"print after this for loop\")\n",
        "print(\"The End\")\n",
        "# else will not be printed\n",
        "# if any case, the entire for loop is unable to complete, then it will not come to else statement"
      ],
      "execution_count": 107,
      "outputs": [
        {
          "output_type": "stream",
          "text": [
            "s\n",
            "u\n",
            "d\n",
            "The End\n"
          ],
          "name": "stdout"
        }
      ]
    },
    {
      "cell_type": "code",
      "metadata": {
        "id": "4nBAsbKu_JEu",
        "colab_type": "code",
        "colab": {
          "base_uri": "https://localhost:8080/",
          "height": 119
        },
        "outputId": "7d633429-e38e-4ca2-94ee-71a25422b01f"
      },
      "source": [
        "for val in \"string\":\n",
        "  if val == \"i\":\n",
        "    continue\n",
        "  print(val)\n",
        "print(\"The End\")\n",
        "# whatever we have written after the continue will not be executed\n",
        "# continue will pass the control over the loop and ignore the code after it"
      ],
      "execution_count": 108,
      "outputs": [
        {
          "output_type": "stream",
          "text": [
            "s\n",
            "t\n",
            "r\n",
            "n\n",
            "g\n",
            "The End\n"
          ],
          "name": "stdout"
        }
      ]
    },
    {
      "cell_type": "code",
      "metadata": {
        "id": "awox5fQ-BQNe",
        "colab_type": "code",
        "colab": {
          "base_uri": "https://localhost:8080/",
          "height": 136
        },
        "outputId": "3cd90d29-1786-482f-b5e6-0f8d7254dae6"
      },
      "source": [
        "for val in \"string\":\n",
        "  if val == \"i\":\n",
        "    continue\n",
        "  print(val)\n",
        "else:\n",
        "  print(\"Print this if for loop is able to complete itself\")\n",
        "print(\"The End\")"
      ],
      "execution_count": 111,
      "outputs": [
        {
          "output_type": "stream",
          "text": [
            "s\n",
            "t\n",
            "r\n",
            "n\n",
            "g\n",
            "Print this if for loop is able to complete itself\n",
            "The End\n"
          ],
          "name": "stdout"
        }
      ]
    },
    {
      "cell_type": "code",
      "metadata": {
        "id": "a15GGtgFBrBC",
        "colab_type": "code",
        "colab": {}
      },
      "source": [
        ""
      ],
      "execution_count": 0,
      "outputs": []
    },
    {
      "cell_type": "markdown",
      "metadata": {
        "id": "7ye_Bt6aCReI",
        "colab_type": "text"
      },
      "source": [
        "input()"
      ]
    },
    {
      "cell_type": "code",
      "metadata": {
        "id": "zAqqxUv-CS62",
        "colab_type": "code",
        "colab": {
          "base_uri": "https://localhost:8080/",
          "height": 51
        },
        "outputId": "23c4e543-3c9b-4fbf-d222-55fa777802a1"
      },
      "source": [
        "type(input())\n",
        "# input will read a string all the time"
      ],
      "execution_count": 112,
      "outputs": [
        {
          "output_type": "stream",
          "text": [
            "121212\n"
          ],
          "name": "stdout"
        },
        {
          "output_type": "execute_result",
          "data": {
            "text/plain": [
              "str"
            ]
          },
          "metadata": {
            "tags": []
          },
          "execution_count": 112
        }
      ]
    },
    {
      "cell_type": "code",
      "metadata": {
        "id": "yxfkaBnsCaKG",
        "colab_type": "code",
        "colab": {
          "base_uri": "https://localhost:8080/",
          "height": 34
        },
        "outputId": "a3548f4b-7d31-481a-f8fc-97a55614d4f5"
      },
      "source": [
        "# type cast the input\n",
        "x = int(input(\"Enter the integer\"))"
      ],
      "execution_count": 113,
      "outputs": [
        {
          "output_type": "stream",
          "text": [
            "Enter the integer12121\n"
          ],
          "name": "stdout"
        }
      ]
    },
    {
      "cell_type": "code",
      "metadata": {
        "id": "9mAWoCjoCpLj",
        "colab_type": "code",
        "colab": {
          "base_uri": "https://localhost:8080/",
          "height": 34
        },
        "outputId": "007dd300-4ee0-4638-efc1-5e49db6f82d5"
      },
      "source": [
        "x"
      ],
      "execution_count": 114,
      "outputs": [
        {
          "output_type": "execute_result",
          "data": {
            "text/plain": [
              "12121"
            ]
          },
          "metadata": {
            "tags": []
          },
          "execution_count": 114
        }
      ]
    },
    {
      "cell_type": "code",
      "metadata": {
        "id": "zvf2cFYdCrYE",
        "colab_type": "code",
        "colab": {}
      },
      "source": [
        ""
      ],
      "execution_count": 0,
      "outputs": []
    }
  ]
}